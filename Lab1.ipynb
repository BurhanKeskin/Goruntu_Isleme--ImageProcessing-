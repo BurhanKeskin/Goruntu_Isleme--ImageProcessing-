{
 "cells": [
  {
   "cell_type": "code",
   "execution_count": 1,
   "id": "94ddfc49",
   "metadata": {},
   "outputs": [],
   "source": [
    "import turtle"
   ]
  },
  {
   "cell_type": "code",
   "execution_count": 2,
   "id": "7edd090c",
   "metadata": {},
   "outputs": [],
   "source": [
    "t = turtle.Pen() #creating a new pen (called turtle in this jargon)"
   ]
  },
  {
   "cell_type": "code",
   "execution_count": 19,
   "id": "54041576",
   "metadata": {},
   "outputs": [],
   "source": [
    "for i in range(4):\n",
    "    t.forward(100)\n",
    "    t.right(90)"
   ]
  },
  {
   "cell_type": "code",
   "execution_count": 20,
   "id": "f779782d",
   "metadata": {},
   "outputs": [],
   "source": [
    "turtle.done()"
   ]
  },
  {
   "cell_type": "code",
   "execution_count": null,
   "id": "94d9be0c",
   "metadata": {},
   "outputs": [],
   "source": [
    "for i in range(4):\n",
    "    t.left(90)\n",
    "    t.forward(100)"
   ]
  },
  {
   "cell_type": "code",
   "execution_count": 4,
   "id": "c6dcc33f",
   "metadata": {},
   "outputs": [],
   "source": [
    "t.reset()\n",
    "\n",
    "for i in range(4):\n",
    "    t.forward(100)\n",
    "    t.right(90)\n",
    "\n",
    "t.up()\n",
    "t.goto(-100,100)\n",
    "t.down()\n",
    "\n",
    "for i in range(4):\n",
    "    t.forward(100)\n",
    "    t.right(90)\n",
    "\n",
    "t.up()\n",
    "t.home()"
   ]
  },
  {
   "cell_type": "code",
   "execution_count": 3,
   "id": "42da60ec",
   "metadata": {},
   "outputs": [],
   "source": [
    "t.forward(100)\n",
    "t.penup()\n",
    "t.goto(50,50)\n",
    "t.right(90)\n",
    "t.pendown()\n",
    "t.forward(100)"
   ]
  },
  {
   "cell_type": "code",
   "execution_count": 3,
   "id": "be084ede",
   "metadata": {},
   "outputs": [],
   "source": [
    "lenght = 50\n",
    "\n",
    "for i in range(9):\n",
    "    if i < 3:\n",
    "        t.forward(lenght)\n",
    "    else:\n",
    "        lenght = lenght - 5\n",
    "        t.forward(lenght)\n",
    "    t.right(90)   \n"
   ]
  },
  {
   "cell_type": "code",
   "execution_count": null,
   "id": "f92dd577",
   "metadata": {},
   "outputs": [],
   "source": []
  }
 ],
 "metadata": {
  "kernelspec": {
   "display_name": "Python 3 (ipykernel)",
   "language": "python",
   "name": "python3"
  },
  "language_info": {
   "codemirror_mode": {
    "name": "ipython",
    "version": 3
   },
   "file_extension": ".py",
   "mimetype": "text/x-python",
   "name": "python",
   "nbconvert_exporter": "python",
   "pygments_lexer": "ipython3",
   "version": "3.11.5"
  }
 },
 "nbformat": 4,
 "nbformat_minor": 5
}
