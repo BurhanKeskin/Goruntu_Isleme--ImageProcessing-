{
 "cells": [
  {
   "cell_type": "code",
   "execution_count": 11,
   "id": "a314f617",
   "metadata": {},
   "outputs": [],
   "source": [
    "import turtle"
   ]
  },
  {
   "cell_type": "code",
   "execution_count": 12,
   "id": "62932339",
   "metadata": {},
   "outputs": [],
   "source": [
    "t = turtle.Pen()"
   ]
  },
  {
   "cell_type": "code",
   "execution_count": 5,
   "id": "674e3a3e",
   "metadata": {},
   "outputs": [],
   "source": [
    "t.forward(120)"
   ]
  },
  {
   "cell_type": "code",
   "execution_count": 6,
   "id": "96a3a458",
   "metadata": {},
   "outputs": [],
   "source": [
    "t.reset()"
   ]
  },
  {
   "cell_type": "code",
   "execution_count": 7,
   "id": "80df592b",
   "metadata": {},
   "outputs": [],
   "source": [
    "def draw_image(points, scale = 1):\n",
    "    po = [[p[0] * scale, p[1] * scale] for p in points]   \n",
    "    # The array which named as points, store 2-dimensional items. \n",
    "    # This items represent the points on the space. So it's like [[x0,y0], [x1,y1], [x2,y2], ...] and by using for loop...\n",
    "    # ...we travel on each point in points. So for instance, p represents [x0,y0] for the 1st iteration then represents [x1,y1] and so on.\n",
    "    # Then, p which stores the coordinates of each point is enlarged by multiplying by a scale value.\n",
    "    # This enlargement process is performed seperately like ( p[0] * \"scale\" and p[1] * \"scale\" ) for each coordinate (x and y).\n",
    "    # And at the end, the points which are enlarged store in the \"po\" array. \n",
    "    \n",
    "    t.penup()         # We can lift the pen up and provide that the pen doesn't draw any line while moving to any point so.\n",
    "    t.setx(po[0][0]) \n",
    "    t.sety(po[0][1])\n",
    "    t.pendown()       # After using penup(), we have to use pendown() function to enable drawing again.\n",
    "    for p in po:\n",
    "        t.goto(p[0], p[1])\n",
    "    t.penup()    \n",
    "    t.home()     # home() function is used to move the turtle to the origin point which means to (0,0)\n",
    "    t.pendown()  \n",
    "    return\n",
    "\n",
    "#Draw dot and return home\n",
    "def draw_dot(dot, scale = 1, size = 5, color = 'black'):\n",
    "    dot = [dot[0] * scale, dot[1] * scale]\n",
    "    t.penup()\n",
    "    t.goto(dot[0], dot[1])\n",
    "    t.pendown()\n",
    "    t.dot(size, color)\n",
    "    t.penup()\n",
    "    t.home()\n",
    "    t.pendown()\n",
    "    return"
   ]
  },
  {
   "cell_type": "code",
   "execution_count": null,
   "id": "7eaccb96",
   "metadata": {},
   "outputs": [],
   "source": [
    "t=turtle.Turtle()\n",
    "turtle.delay(40) #delay in miliseconds at each step\n",
    "scale = 10 #scales the image\n",
    "\n",
    "points = [[1, 13], [3, 13], [4, 14], [5, 14], [6, 15], [6, 14], [9, 11], [18, 11], [20, 9], [20, 5], [19, 3], [19, 7], [17, 1], [15, 1], [16, 2], [16, 4], [15, 7], [13, 6], [10, 7], [9, 7], [8, 6], [7, 2], [7, 1], [5, 1], [6, 2], [6, 7], [5, 8], [4, 11], [1, 12], [1, 13]]\n",
    "dot = [4, 13]\n",
    "\n",
    "draw_image(points, scale)\n",
    "draw_dot(dot, scale)\n",
    "\n",
    "turtle.mainloop()"
   ]
  },
  {
   "cell_type": "code",
   "execution_count": null,
   "id": "cd67a19e",
   "metadata": {},
   "outputs": [],
   "source": [
    "t.reset()"
   ]
  },
  {
   "cell_type": "code",
   "execution_count": null,
   "id": "0d8522e0",
   "metadata": {},
   "outputs": [],
   "source": []
  },
  {
   "cell_type": "code",
   "execution_count": null,
   "id": "286aaa72",
   "metadata": {},
   "outputs": [],
   "source": []
  }
 ],
 "metadata": {
  "kernelspec": {
   "display_name": "Python 3 (ipykernel)",
   "language": "python",
   "name": "python3"
  },
  "language_info": {
   "codemirror_mode": {
    "name": "ipython",
    "version": 3
   },
   "file_extension": ".py",
   "mimetype": "text/x-python",
   "name": "python",
   "nbconvert_exporter": "python",
   "pygments_lexer": "ipython3",
   "version": "3.11.5"
  }
 },
 "nbformat": 4,
 "nbformat_minor": 5
}
