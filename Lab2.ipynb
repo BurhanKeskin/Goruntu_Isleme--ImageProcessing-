{
 "cells": [
  {
   "cell_type": "code",
   "execution_count": 3,
   "id": "cc79c88a",
   "metadata": {},
   "outputs": [],
   "source": [
    "import turtle"
   ]
  },
  {
   "cell_type": "code",
   "execution_count": 4,
   "id": "e8537f0f",
   "metadata": {},
   "outputs": [],
   "source": [
    "t = turtle.Pen()\n",
    "\n",
    "turtle.bgcolor(\"black\")  # changes the background color of the window.\n",
    "t.color(\"white\")  # changes the color of the pen, pen draws the lines with this color.\n",
    "\n",
    "for i in range(4):\n",
    "    t.forward(100)\n",
    "    t.right(90)"
   ]
  },
  {
   "cell_type": "code",
   "execution_count": 5,
   "id": "72b8d0c5",
   "metadata": {},
   "outputs": [],
   "source": [
    "t.reset()\n",
    "\n",
    "t.speed(0)\n",
    "n = 100\n",
    "\n",
    "t.pu()   # pu() function is the same with penup() function.\n",
    "t.setpos(0, -150)\n",
    "t.pd()   # pd() function is the same with pendown() function.\n",
    "\n",
    "turtle.bgcolor(\"black\")  \n",
    "t.color('red', 'white')   # when we pass 2 arguements into the color function,\n",
    "                          # first one is for the line color which is drawn by the pen\n",
    "                          # and the second is for the filling inside of the drawn shape.\n",
    "# it looks like we use this for the begin_fill() and end_fill() functions.\n",
    "\n",
    "t.begin_fill()   # it is used to call just before drawing a shape to be filled.\n",
    "for _ in range(n):\n",
    "    t.forward(10)\n",
    "    t.left(360/n) \n",
    "t.end_fill()     # we call it only to finish the filling process"
   ]
  },
  {
   "cell_type": "code",
   "execution_count": 5,
   "id": "4cd29915",
   "metadata": {},
   "outputs": [],
   "source": [
    "t.reset()\n",
    "\n",
    "n = 18 \n",
    "lenght = 100\n",
    "\n",
    "turtle.bgcolor(\"white\")\n",
    "t.color(\"blue\",\"yellow\")\n",
    "\n",
    "t.begin_fill()\n",
    "\n",
    "for i in range(n):\n",
    "    t.forward(lenght)\n",
    "    t.left(100)\n",
    "    \n",
    "t.end_fill()"
   ]
  },
  {
   "cell_type": "code",
   "execution_count": 16,
   "id": "48877f86",
   "metadata": {},
   "outputs": [],
   "source": [
    "t.reset()\n",
    "\n",
    "t.pencolor('green')    # determines the color of line which drawn by pen.\n",
    "t.fillcolor('yellow')  # fills with the color inside of the drawn shape\n",
    "\n",
    "sidelng = 100\n",
    "\n",
    "t.begin_fill()\n",
    "\n",
    "for _ in range(4):\n",
    "    t.forward(sidelng)\n",
    "    t.left(90)\n",
    "    \n",
    "t.end_fill()"
   ]
  },
  {
   "cell_type": "code",
   "execution_count": null,
   "id": "b666ec09",
   "metadata": {},
   "outputs": [],
   "source": [
    "# We can determine pen color by using value range instead of just passing the color name.\n",
    "# With this way, we can use any color.\n",
    "# To do that, we just need to specify the color value into pencolor() function.\n",
    "# It takes 3 arguements, pencolor(r, g, b)  - r, represents the red channel\n",
    "#                                           - g, represents the green channel\n",
    "#                                           - b, represents the blue channel\n",
    "\n",
    "# each parameter accepts value between [0, 255].\n",
    "# t.pencolor(255, 0, 0) -> red\n",
    "# t.pencolor(0, 255, 0) -> green\n",
    "# t.pencolor(0, 0, 255) -> blue\n",
    "# t.pencolor(0, 0, 0) -> black\n",
    "# t.pencolor(255, 255, 255) -> white\n"
   ]
  },
  {
   "cell_type": "code",
   "execution_count": 5,
   "id": "2233f0d8",
   "metadata": {},
   "outputs": [
    {
     "name": "stdout",
     "output_type": "stream",
     "text": [
      "type the number of sides <= 7 5\n"
     ]
    }
   ],
   "source": [
    "t.reset()\n",
    "\n",
    "t.speed(0)\n",
    "turtle.bgcolor(\"gray\")\n",
    "\n",
    "side = eval(input(\"type the number of sides <= 7 \"))\n",
    "\n",
    "colors = [\"red\", \"orange\", \"yellow\", \"purple\", \"green\", \"magenta\", \"blue\"]\n",
    "\n",
    "for i in range(200):\n",
    "    t.pencolor(colors[i%side])\n",
    "    t.circle(i)  # circle() function gets 1 arguement which determine the radius of the circle.\n",
    "    t.left(360/side+1)"
   ]
  },
  {
   "cell_type": "code",
   "execution_count": null,
   "id": "7f1f9992",
   "metadata": {},
   "outputs": [],
   "source": [
    "t.reset()\n",
    "\n",
    "turtle.bgcolor(\"white\")\n",
    "\n",
    "colors = [\"red\",\"green\"]\n",
    "\n",
    "for i in range(10):\n",
    "    t.color(\"black\", colors[i%2])\n",
    "    t.begin_fill()\n",
    "    t.circle(100-(10*i))\n",
    "    t.end_fill()\n",
    "    t.penup()\n",
    "    t.goto(0, (10*i))\n",
    "    t.pendown()\n",
    "    \n",
    "\n"
   ]
  },
  {
   "cell_type": "code",
   "execution_count": null,
   "id": "ade1aa64",
   "metadata": {},
   "outputs": [],
   "source": [
    "t.reset()\n",
    "turtle.bgcolor('white')\n",
    "clr = ['red', 'green']\n",
    "t.speed(0)\n",
    "for i in range(10):\n",
    "    t.color(clr[i%2])\n",
    "    t.pu()\n",
    "    t.rt(90)\n",
    "    t.fd(100-i*10)\n",
    "    t.lt(90)\n",
    "    t.pd()\n",
    "    t.begin_fill()\n",
    "    t.circle(100-i*10)\n",
    "    t.end_fill()\n",
    "    t.pu()\n",
    "    t.lt(90)\n",
    "    t.fd(100-i*10)\n",
    "    t.rt(90)\n",
    "    t.pd()"
   ]
  },
  {
   "cell_type": "code",
   "execution_count": 46,
   "id": "70c99fc9",
   "metadata": {},
   "outputs": [],
   "source": [
    "t.reset()\n",
    "\n",
    "turtle.bgcolor(\"white\")\n",
    "\n",
    "for i in range(10):\n",
    "        c = i*28/255\n",
    "        t.pencolor(c,c,c)\n",
    "        t.fd(10)"
   ]
  },
  {
   "cell_type": "code",
   "execution_count": 48,
   "id": "24b32fad",
   "metadata": {},
   "outputs": [],
   "source": [
    "t.reset()\n",
    "\n",
    "def drawSquare(lenght):\n",
    "    for i in range(4):\n",
    "        t.forward(lenght)\n",
    "        t.right(90)\n",
    "        \n",
    "drawSquare(100)\n",
    "\n",
    "t.penup()\n",
    "t.setpos(-100,100)\n",
    "t.pendown()\n",
    "\n",
    "drawSquare(100)\n",
    "\n",
    "t.penup()\n",
    "t.home()"
   ]
  },
  {
   "cell_type": "code",
   "execution_count": 53,
   "id": "14bc1f9f",
   "metadata": {},
   "outputs": [],
   "source": [
    "t.reset()\n",
    "\n",
    "# seth(), sets the angle of the turtle.\n",
    "# setheading() function realize the same operation.\n",
    "# we just need to pass the angle.\n",
    "# 0 (zero) means that makes the turtle to look to the right.\n",
    "t.seth(0) \n",
    "  \n",
    "# motion \n",
    "t.forward(80) \n",
    "t.write(\"East\") \n",
    "  \n",
    "# back to home \n",
    "t.home() \n",
    "  \n",
    "# set direction at 90 \n",
    "# angle using sethading \n",
    "t.setheading(90) \n",
    "  \n",
    "# motion \n",
    "t.forward(80) \n",
    "t.write(\"North\") \n",
    "  \n",
    "# back to home \n",
    "t.home() \n",
    "  \n",
    "# set direction at 180 \n",
    "# angle using seth \n",
    "t.seth(180) \n",
    "  \n",
    "# motion \n",
    "t.forward(80) \n",
    "t.write(\"West\",align=\"right\") \n",
    "  \n",
    "# back to home \n",
    "t.home() \n",
    "  \n",
    "# set direction at 270 \n",
    "# angle using setheading \n",
    "t.setheading(270) \n",
    "  \n",
    "# motion \n",
    "t.forward(80) \n",
    "t.write(\"South\") \n",
    "  \n",
    "# hide the turtle \n",
    "t.ht()"
   ]
  },
  {
   "cell_type": "code",
   "execution_count": null,
   "id": "6af01c9c",
   "metadata": {},
   "outputs": [],
   "source": []
  }
 ],
 "metadata": {
  "kernelspec": {
   "display_name": "Python 3 (ipykernel)",
   "language": "python",
   "name": "python3"
  },
  "language_info": {
   "codemirror_mode": {
    "name": "ipython",
    "version": 3
   },
   "file_extension": ".py",
   "mimetype": "text/x-python",
   "name": "python",
   "nbconvert_exporter": "python",
   "pygments_lexer": "ipython3",
   "version": "3.11.5"
  }
 },
 "nbformat": 4,
 "nbformat_minor": 5
}
