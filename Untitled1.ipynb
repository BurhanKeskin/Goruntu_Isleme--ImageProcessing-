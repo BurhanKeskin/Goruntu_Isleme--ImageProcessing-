{
 "cells": [
  {
   "cell_type": "code",
   "execution_count": 1,
   "id": "c02824fb",
   "metadata": {},
   "outputs": [],
   "source": [
    "import turtle"
   ]
  },
  {
   "cell_type": "code",
   "execution_count": 2,
   "id": "dd08652c",
   "metadata": {},
   "outputs": [],
   "source": [
    "t = turtle.Pen() #creating a new pen (called turtle in this jargon)"
   ]
  },
  {
   "cell_type": "code",
   "execution_count": 19,
   "id": "f5d10a72",
   "metadata": {},
   "outputs": [],
   "source": [
    "for i in range(4):\n",
    "    t.forward(100)\n",
    "    t.right(90)"
   ]
  },
  {
   "cell_type": "code",
   "execution_count": 20,
   "id": "f14cf08e",
   "metadata": {},
   "outputs": [],
   "source": [
    "turtle.done()"
   ]
  },
  {
   "cell_type": "code",
   "execution_count": null,
   "id": "adfa4358",
   "metadata": {},
   "outputs": [],
   "source": [
    "for i in range(4):\n",
    "    t.left(90)\n",
    "    t.forward(100)"
   ]
  },
  {
   "cell_type": "code",
   "execution_count": 4,
   "id": "fbc2f017",
   "metadata": {},
   "outputs": [],
   "source": [
    "for i in range(4):\n",
    "    t.forward(100)\n",
    "    t.right(90)\n",
    "\n",
    "t.penup()\n",
    "t.goto(-100,100)\n",
    "t.pendown()\n",
    "\n",
    "for i in range(4):\n",
    "    t.forward(100)\n",
    "    t.right(90)\n",
    "\n",
    "t.penup()\n",
    "t.home()"
   ]
  },
  {
   "cell_type": "code",
   "execution_count": 3,
   "id": "541f5150",
   "metadata": {},
   "outputs": [],
   "source": [
    "t.forward(100)\n",
    "t.penup()\n",
    "t.goto(50,50)\n",
    "t.right(90)\n",
    "t.pendown()\n",
    "t.forward(100)"
   ]
  },
  {
   "cell_type": "code",
   "execution_count": 3,
   "id": "6d4b1ee0",
   "metadata": {},
   "outputs": [],
   "source": [
    "lenght = 50\n",
    "\n",
    "for i in range(9):\n",
    "    if i < 3:\n",
    "        t.forward(lenght)\n",
    "    else:\n",
    "        lenght = lenght - 5\n",
    "        t.forward(lenght)\n",
    "    t.right(90)   \n"
   ]
  },
  {
   "cell_type": "code",
   "execution_count": null,
   "id": "0c818b26",
   "metadata": {},
   "outputs": [],
   "source": []
  }
 ],
 "metadata": {
  "kernelspec": {
   "display_name": "Python 3 (ipykernel)",
   "language": "python",
   "name": "python3"
  },
  "language_info": {
   "codemirror_mode": {
    "name": "ipython",
    "version": 3
   },
   "file_extension": ".py",
   "mimetype": "text/x-python",
   "name": "python",
   "nbconvert_exporter": "python",
   "pygments_lexer": "ipython3",
   "version": "3.11.5"
  }
 },
 "nbformat": 4,
 "nbformat_minor": 5
}
